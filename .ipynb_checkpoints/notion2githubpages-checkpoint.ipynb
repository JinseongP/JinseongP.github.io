{
 "cells": [
  {
   "cell_type": "code",
   "execution_count": 1,
   "metadata": {},
   "outputs": [],
   "source": [
    "import zipfile\n",
    "import glob\n",
    "import time\n",
    "import shutil\n",
    "import os\n",
    "import re"
   ]
  },
  {
   "cell_type": "code",
   "execution_count": 2,
   "metadata": {},
   "outputs": [],
   "source": [
    "target=\"Export-*.zip\"\n",
    "\n",
    "date=time.localtime()\n",
    "\n",
    "path_list = glob.glob(target)\n",
    "\n",
    "posts_folder_path='_posts/'\n",
    "images_folder_path='assets/images/'\n",
    "\n",
    "if not os.path.exists(posts_folder_path):\n",
    "    os.makedirs(posts_folder_path)\n",
    "if not os.path.exists(images_folder_path):\n",
    "    os.makedirs(images_folder_path)"
   ]
  },
  {
   "cell_type": "code",
   "execution_count": 4,
   "metadata": {
    "scrolled": true
   },
   "outputs": [
    {
     "name": "stdout",
     "output_type": "stream",
     "text": [
      "Title for 노션을 깃허브 블로그로 옮기기 739acb75fbeb4f968b34d4bd6d11ab46: \n",
      "노션을 깃허브 블로그로 옮기기\n",
      "Excerpt for 노션을 깃허브 블로그로 옮기기 739acb75fbeb4f968b34d4bd6d11ab46: \n",
      "노션(Notion)을 깃허브 블로그(Github io)로 쉽게 옮기는 법을 알아보자.\n",
      "Category for 노션을 깃허브 블로그로 옮기기 739acb75fbeb4f968b34d4bd6d11ab46: \n",
      "posts\n",
      "Tags (separated by '/') for 노션을 깃허브 블로그로 옮기기 739acb75fbeb4f968b34d4bd6d11ab46: \n",
      "Notion/Github\n"
     ]
    }
   ],
   "source": [
    "for path in path_list:    \n",
    "    \n",
    "    zip_path = zipfile.ZipFile(path)\n",
    "    \n",
    "    images = None\n",
    "    if len(zip_path.namelist())>1:\n",
    "        images = zip_path.namelist()[1:]\n",
    "    post = zip_path.namelist()[0]\n",
    "\n",
    "    exported_filename = post.split('.')[0]\n",
    " \n",
    "    ########################### input\n",
    "    \n",
    "    print(\"Title for \"+exported_filename+\": \")\n",
    "    title = re.sub(':',';',input ())\n",
    "    print(\"Excerpt for \"+exported_filename+\": \")\n",
    "    excerpt = re.sub(':',';',input ())\n",
    "    print(\"Category for \"+exported_filename+\": \")\n",
    "    categories = re.sub(':',';',input ())\n",
    "    print(\"Tags (separated by '/') for \"+exported_filename+\": \")\n",
    "    tags = re.sub(':',';',input ())\n",
    "    tags = tags.split('/')\n",
    "    \n",
    "    filename = str(date.tm_year)+\"-\"+str(date.tm_mon)+\"-\"+str(date.tm_mday)+\"-\"+re.sub('[\\/:*?\"<>|]','',title)\n",
    "    ###########################\n",
    "\n",
    "\n",
    "    zip_path.extractall()\n",
    "\n",
    "    with open(post, 'r+', encoding='UTF8') as file:\n",
    "        readcontent = file.read()  \n",
    "        file.seek(0, 0)\n",
    "        file.truncate(0) \n",
    "        file.write(\"---\"+\"\\n\")\n",
    "        file.write(\"title: \"+title+\"\\n\")\n",
    "        file.write(\"excerpt: \"+excerpt+\"\\n\")\n",
    "        file.write(\"categories:\"+\"\\n\"+\"  - \"+categories+\"\\n\")\n",
    "        file.write(\"tags:\"+\"\\n\")\n",
    "        for tag in tags:\n",
    "            file.write(\"  - \"+tag+\"\\n\")\n",
    "        file.write(\"---\"+\"\\n\")\n",
    "              \n",
    "        if images is not None:\n",
    "            for line in readcontent.splitlines():\n",
    "                if 'png' in line:\n",
    "                    imagename = (line.split('.')[0].split('/')[1])\n",
    "                    line = '!['+imagename+'.png]({{site.url}}/'+images_folder_path+filename+'/'+imagename+'.png){:.center-image}'\n",
    "                file.write(line+'\\n')        \n",
    "        else:\n",
    "            file.write(readcontent) \n",
    "\n",
    "        file.close()\n",
    "\n",
    "    shutil.move(post, posts_folder_path+filename+\".md\")\n",
    "    if images is not None:\n",
    "        shutil.move(exported_filename, images_folder_path+filename)\n",
    "    zip_path.close()\n",
    "    os.remove(path)"
   ]
  },
  {
   "cell_type": "code",
   "execution_count": null,
   "metadata": {},
   "outputs": [],
   "source": []
  }
 ],
 "metadata": {
  "kernelspec": {
   "display_name": "Python 3",
   "language": "python",
   "name": "python3"
  },
  "language_info": {
   "codemirror_mode": {
    "name": "ipython",
    "version": 3
   },
   "file_extension": ".py",
   "mimetype": "text/x-python",
   "name": "python",
   "nbconvert_exporter": "python",
   "pygments_lexer": "ipython3",
   "version": "3.8.3"
  }
 },
 "nbformat": 4,
 "nbformat_minor": 4
}
